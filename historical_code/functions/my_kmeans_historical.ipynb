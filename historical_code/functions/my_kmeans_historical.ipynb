{
 "cells": [
  {
   "cell_type": "markdown",
   "metadata": {},
   "source": [
    "# General k-means analysis"
   ]
  },
  {
   "cell_type": "code",
   "execution_count": 15,
   "metadata": {
    "ExecuteTime": {
     "end_time": "2022-02-14T00:08:15.245593Z",
     "start_time": "2022-02-14T00:08:15.237415Z"
    }
   },
   "outputs": [],
   "source": [
    "import math\n",
    "import time\n",
    "import random\n",
    "import matplotlib.pyplot as plt\n",
    "from matplotlib import colors\n",
    "import matplotlib.patches as mpatches\n",
    "import numpy as np\n",
    "from numpy import linalg\n",
    "import scipy.io as sio\n",
    "from sklearn.cluster import KMeans\n",
    "from sklearn import metrics\n",
    "from matplotlib.ticker import FormatStrFormatter\n",
    "\n",
    "\n",
    "%matplotlib notebook"
   ]
  },
  {
   "cell_type": "code",
   "execution_count": 16,
   "metadata": {
    "ExecuteTime": {
     "end_time": "2022-02-14T00:08:15.824740Z",
     "start_time": "2022-02-14T00:08:15.819356Z"
    }
   },
   "outputs": [],
   "source": [
    "#   Description:\n",
    "#Uploads dI/dV data that was preprocessed in Matlab, in the format of a '.mat' Matlab matrix\n",
    "#   Parameters:\n",
    "#Input:\n",
    "#fileName = string of the full path and file name\n",
    "#variableName = string of workspace variable name as it was in MATLAB\n",
    "#Output:\n",
    "#array = dI/dV matrix as a python array\n",
    "\n",
    "def MATLAB_file_to_array(fileName, variableName):\n",
    "\n",
    "    matrix = sio.loadmat(fileName)\n",
    "    array = matrix[variableName]\n",
    "    print(\"Shape of array: \",np.shape(array))\n",
    "    \n",
    "    return array"
   ]
  },
  {
   "cell_type": "code",
   "execution_count": 17,
   "metadata": {
    "ExecuteTime": {
     "end_time": "2022-02-14T00:08:16.668996Z",
     "start_time": "2022-02-14T00:08:16.660404Z"
    }
   },
   "outputs": [],
   "source": [
    "#   Description:\n",
    "#runs k-means clustering algorithm on dI/dV grid map\n",
    "#uses scipy library function: https://scikit-learn.org/stable/modules/generated/sklearn.cluster.KMeans.html\n",
    "#uses k-means++ centroid generator for quicker optimization and is seeded for reproducibility\n",
    "#   Parameters:\n",
    "#Inputs:\n",
    "#grid = array of dI/dV grid map in shape (x, y, energy)\n",
    "#number_clusters = array of dI/dV grid map in shape (x, y, energy)\n",
    "#Outputs:\n",
    "#labels = array of k-mean cluster assignments in shape (x, y)\n",
    "#centroids = array of k-means centroids in shape (number_clusters, energy)\n",
    "#score = float of calculated BCSS/WCSS (Calinski-Harabasz Index) value. Higher values imply better fit \n",
    "#For details, see: https://scikit-learn.org/stable/modules/clustering.html#calinski-harabasz-index\n",
    "\n",
    "def my_kmeans(grid, number_clusters):\n",
    "    #Data needs to be in shape (n_samples, n_features), ie: (75625, 81) for k-means\n",
    "    data = np.reshape(grid, (np.shape(grid)[0]*np.shape(grid)[1], np.shape(grid)[2]))\n",
    "    kmeans = KMeans(n_clusters=number_clusters, init='k-means++',n_init=100, max_iter=100, random_state=0).fit(data)\n",
    "    labels = kmeans.labels_\n",
    "    centroids = kmeans.cluster_centers_\n",
    "    score = metrics.calinski_harabasz_score(data, labels)\n",
    "    print('k-means complete. BCSS / WCSS = {:0.6e}'.format(score))\n",
    "    \n",
    "    return labels, centroids, score"
   ]
  },
  {
   "cell_type": "code",
   "execution_count": 18,
   "metadata": {
    "ExecuteTime": {
     "end_time": "2022-02-14T00:08:17.358684Z",
     "start_time": "2022-02-14T00:08:17.226527Z"
    }
   },
   "outputs": [],
   "source": [
    "#   Description:\n",
    "#plotting function for k-means output\n",
    "#   Parameters:\n",
    "#Inputs:\n",
    "#grid = array of dI/dV grid map in shape (x, y, energy)\n",
    "#minV = float, the first energy value\n",
    "#maxV = float, the last energy value\n",
    "#labels = array, output of k-mean cluster assignments in shape (x, y)\n",
    "#centroids = array, output of k-means centroids in shape (number_clusters, energy)\n",
    "#colours = array of strings, desired colour for each centroid\n",
    "#Outpus: None\n",
    "\n",
    "def kmeans_Plot(grid, minV, maxV, labels, centroids, colours):\n",
    "    energy = np.linspace(minV, maxV, num=np.shape(grid)[2]) #evenly spaced values between minV and maxV\n",
    "    img_labels = np.reshape(labels, (np.shape(grid)[0],np.shape(grid)[1])) #Reformating labels for map layout\n",
    "    number_centroids = np.shape(centroids)[0]\n",
    "    \n",
    "    #Plotting\n",
    "    fig,(ax1,ax2) = plt.subplots(1,2)\n",
    "    fig.subplots_adjust(hspace=0.3)\n",
    "    \n",
    "    for i in range(number_centroids):\n",
    "        ax1.plot(energy,centroids[i],label=\"Centroid \"+str(i+1), marker='',linestyle='-', lw=2, color=colours[i])\n",
    "    \n",
    "    ax1.set_ylabel(\"DOS\")\n",
    "    ax1.set_xlabel(\"Bias (eV)\")\n",
    "    ax1.set_title(\"k-means centroids\")\n",
    "    ax1.legend()\n",
    "\n",
    "    cmap = colors.ListedColormap(colours)\n",
    "    ax2.imshow(img_labels, cmap=cmap)\n",
    "    ax2.set_title(\"Map of cluster assignments\")\n",
    "    ax2.set_xticks([])\n",
    "    ax2.set_yticks([])\n",
    "    \n",
    "    plt.show()\n"
   ]
  },
  {
   "cell_type": "code",
   "execution_count": null,
   "metadata": {},
   "outputs": [],
   "source": []
  }
 ],
 "metadata": {
  "kernelspec": {
   "display_name": "Python 3",
   "language": "python",
   "name": "python3"
  },
  "language_info": {
   "codemirror_mode": {
    "name": "ipython",
    "version": 3
   },
   "file_extension": ".py",
   "mimetype": "text/x-python",
   "name": "python",
   "nbconvert_exporter": "python",
   "pygments_lexer": "ipython3",
   "version": "3.7.3"
  }
 },
 "nbformat": 4,
 "nbformat_minor": 2
}
