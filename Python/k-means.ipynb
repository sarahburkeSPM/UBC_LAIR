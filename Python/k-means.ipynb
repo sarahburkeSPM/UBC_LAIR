{
 "cells": [
  {
   "cell_type": "markdown",
   "metadata": {},
   "source": [
    "# General k-means analysis\n",
    "Created by Vanessa King\n",
    "Initiated May 13, 2021"
   ]
  },
  {
   "cell_type": "code",
   "execution_count": 1,
   "metadata": {
    "ExecuteTime": {
     "end_time": "2021-11-24T22:26:58.385402Z",
     "start_time": "2021-11-24T22:26:54.728129Z"
    }
   },
   "outputs": [],
   "source": [
    "import math\n",
    "import time\n",
    "import random\n",
    "import matplotlib.pyplot as plt\n",
    "from matplotlib import colors\n",
    "import matplotlib.patches as mpatches\n",
    "import numpy as np\n",
    "from numpy import linalg\n",
    "import scipy.io as sio\n",
    "from sklearn.cluster import KMeans\n",
    "from sklearn import metrics\n",
    "from matplotlib.ticker import FormatStrFormatter\n",
    "\n",
    "\n",
    "%matplotlib notebook"
   ]
  },
  {
   "cell_type": "code",
   "execution_count": null,
   "metadata": {},
   "outputs": [],
   "source": [
    "#Upload data, preprocessed in Matlab. In the format of a '.mat' Matlab matrix\n",
    "\n",
    "def MATLAB_file_to_array(fileName, variableName):\n",
    "    #fileName should be string of the full path and fileName\n",
    "    #variableName should be string of workspace variable name as it was in MATLAB\n",
    "    \n",
    "    matrix = sio.loadmat(fileName)\n",
    "    array = matrix[variableName]\n",
    "    print(\"Shape of array: \",np.shape(array))\n",
    "    \n",
    "    return array\n",
    "\n",
    "data_18_77K = MATLAB_file_to_array('/Users/vanessa/Desktop/UBC/Lab/Iridates_Project/Grid006_Rh18_77K.mat', 'my_variable')\n",
    "data_18_4K = MATLAB_file_to_array('/Users/vanessa/Desktop/UBC/Lab/Iridates_Project/Grid006_Rh18_4K.mat', 'dIdVN')\n",
    "data_5 = MATLAB_file_to_array('/Users/vanessa/Desktop/UBC/Lab/Iridates_Project/raw_data.mat','raw_data')"
   ]
  },
  {
   "cell_type": "code",
   "execution_count": null,
   "metadata": {},
   "outputs": [],
   "source": [
    "def my_kmeans(file, n_clusters):\n",
    "    #Data needs to be in shape (n_samples, n_features), ie: (75625, 81)\n",
    "    data = np.reshape(file, (np.shape(file)[0]*np.shape(file)[1], np.shape(file)[2]))\n",
    "    # https://scikit-learn.org/stable/modules/generated/sklearn.cluster.KMeans.html\n",
    "    kmeans = KMeans(n_clusters=n_clusters, init='k-means++',n_init=100, max_iter=100, tol=0.00000000000000001, random_state=0).fit(data)\n",
    "    labels = kmeans.labels_\n",
    "    centroids = kmeans.cluster_centers_\n",
    "    \n",
    "    #https://scikit-learn.org/stable/modules/clustering.html#calinski-harabasz-index\n",
    "    #Calinski-Harabasz Index for quality of fit evaluation. A high value signifies a good fit. Equals BCSS / WCSS\n",
    "    score = metrics.calinski_harabasz_score(data, labels)\n",
    "    print('k-means complete. BCSS / WCSS = {:0.6e}'.format(score))\n",
    "    \n",
    "    return labels, centroids, score\n",
    "\n",
    "labels, centroids, score = my_kmeans(data_5, 4)"
   ]
  },
  {
   "cell_type": "code",
   "execution_count": null,
   "metadata": {},
   "outputs": [],
   "source": [
    "def kmeans_Plot(grid, minV, maxV, labels, centroids):\n",
    "    #grid = 3 dimensional data array, minV = starting voltage, maxV = final voltage, \n",
    "    #labels = labels output from kmeans, centroids = centroids output from kmeans\n",
    "    \n",
    "    energy = np.linspace(minV, maxV, num=np.shape(grid)[2]) #evenly spaced values between minV and maxV\n",
    "    img_labels = np.reshape(labels, (np.shape(grid)[0],np.shape(grid)[1])) #Reformating labels for map layout\n",
    "    \n",
    "    #Plotting\n",
    "    fig,(ax1,ax2) = plt.subplots(1,2)\n",
    "    fig.subplots_adjust(hspace=0.3)\n",
    "    \n",
    "    ax1.plot(energy,centroids[0],label=\"Centroid 1\", marker='',linestyle='-', lw=2, color='#EF0096')\n",
    "    ax1.plot(energy,centroids[1],label=\"Centroid 2\", marker='',linestyle='-', lw=2, color='#003C86')\n",
    "    ax1.plot(energy,centroids[2],label=\"Centroid 3\", marker='',linestyle='-', lw=2, color='k')\n",
    "    ax1.plot(energy,centroids[3],label=\"Centroid 4\", marker='',linestyle='-', lw=2, color='#00DCB5')\n",
    "\n",
    "    ax1.set_ylabel(\"DOS\")\n",
    "    ax1.set_xlabel(\"Bias (eV)\")\n",
    "    ax1.set_title(\"Spectra of k-means centroids\")\n",
    "    ax1.legend()\n",
    "    ax1.yaxis.set_ticks(np.arange(0.0, 1.51E-11, 0.5E-11))\n",
    "    ax1.set_ylim(0.0, 1.50E-11)\n",
    "    \n",
    "    cmap = colors.ListedColormap(['#EF0096','#003C86','k','#00DCB5'])\n",
    "    ax2.imshow(img_labels, cmap=cmap)\n",
    "    ax2.set_title(\"Map of cluster assignments\")\n",
    "    ax2.set_xticks([])\n",
    "    ax2.set_yticks([])\n",
    "    \n",
    "    plt.show()\n",
    "    \n",
    "kmeans_Plot(data_5,-0.8,0.8,labels,centroids)"
   ]
  },
  {
   "cell_type": "code",
   "execution_count": null,
   "metadata": {},
   "outputs": [],
   "source": [
    "#save to cluster assignments to file\n",
    "\n",
    "np.savetxt(\"Rh18_4K_3cluster_labels.csv\", img_labels, delimiter=',')"
   ]
  }
 ],
 "metadata": {
  "kernelspec": {
   "display_name": "Python 3",
   "language": "python",
   "name": "python3"
  },
  "language_info": {
   "codemirror_mode": {
    "name": "ipython",
    "version": 3
   },
   "file_extension": ".py",
   "mimetype": "text/x-python",
   "name": "python",
   "nbconvert_exporter": "python",
   "pygments_lexer": "ipython3",
   "version": "3.7.3"
  }
 },
 "nbformat": 4,
 "nbformat_minor": 2
}
